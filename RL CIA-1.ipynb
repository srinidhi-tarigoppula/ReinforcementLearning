{
 "cells": [
  {
   "cell_type": "markdown",
   "id": "837a9355",
   "metadata": {},
   "source": [
    "### Genetic Algorithm with Reinforcement Learning"
   ]
  },
  {
   "cell_type": "markdown",
   "id": "95847ccf",
   "metadata": {},
   "source": [
    "-Objective Function: The function f(x)=x^2 is optimized. <br>\n",
    "-Genetic Algorithm (GA): The GA operates with selection, crossover, and mutation to evolve the population. <br>\n",
    "-Reinforcement Learning (RL): Q-values are updated based on the fitness of the individuals, incorporating RL principles like learning rate and discount factor. <br>\n",
    "-Population: The algorithm starts with a random population and evolves over generations. <br>\n",
    "-Selection: Two parents are selected based on their fitness. <br>\n",
    "-Crossover: A child is created by combining the parents. <br>\n",
    "-Mutation: The child is mutated with some probability. <br>\n",
    "-Optimization Process: The best solution is printed for each generation, and the final optimized solution is displayed at the end."
   ]
  },
  {
   "cell_type": "code",
   "execution_count": 1,
   "id": "8ee85d72",
   "metadata": {},
   "outputs": [],
   "source": [
    "import numpy as np"
   ]
  },
  {
   "cell_type": "code",
   "execution_count": 2,
   "id": "edb53f6b",
   "metadata": {},
   "outputs": [],
   "source": [
    "def objective_function(x):\n",
    "    return x**2"
   ]
  },
  {
   "cell_type": "code",
   "execution_count": 3,
   "id": "572215c5",
   "metadata": {},
   "outputs": [],
   "source": [
    "# Genetic Algorithm parameters\n",
    "population_size = 10\n",
    "num_generations = 50\n",
    "mutation_rate = 0.1\n",
    "crossover_rate = 0.8"
   ]
  },
  {
   "cell_type": "code",
   "execution_count": 4,
   "id": "cd6edcfd",
   "metadata": {},
   "outputs": [],
   "source": [
    "# Reinforcement Learning parameters\n",
    "learning_rate = 0.1\n",
    "discount_factor = 0.9"
   ]
  },
  {
   "cell_type": "code",
   "execution_count": 5,
   "id": "ed4e5948",
   "metadata": {},
   "outputs": [],
   "source": [
    "population = np.random.uniform(low=-10.0, high=10.0, size=(population_size,))\n",
    "q_values = np.zeros(population_size)"
   ]
  },
  {
   "cell_type": "code",
   "execution_count": 6,
   "id": "7c3aeb15",
   "metadata": {},
   "outputs": [],
   "source": [
    "def select_parents(population, fitness):\n",
    "    parents = np.random.choice(population, size=2, p=fitness/fitness.sum())\n",
    "    return parents"
   ]
  },
  {
   "cell_type": "code",
   "execution_count": 7,
   "id": "2fbc96a7",
   "metadata": {},
   "outputs": [],
   "source": [
    "def crossover(parent1, parent2):\n",
    "    if np.random.rand() < crossover_rate:\n",
    "        alpha = np.random.rand()\n",
    "        child = alpha * parent1 + (1 - alpha) * parent2\n",
    "        return child\n",
    "    else:\n",
    "        return parent1"
   ]
  },
  {
   "cell_type": "code",
   "execution_count": 8,
   "id": "6cf5ee26",
   "metadata": {},
   "outputs": [],
   "source": [
    "def mutate(child):\n",
    "    if np.random.rand() < mutation_rate:\n",
    "        child += np.random.normal(0, 1)\n",
    "    return child"
   ]
  },
  {
   "cell_type": "code",
   "execution_count": 9,
   "id": "b52e9944",
   "metadata": {},
   "outputs": [
    {
     "name": "stdout",
     "output_type": "stream",
     "text": [
      "Generation 1: Best Solution = 0.10032160173318161, Best Fitness = 0.010064423774311108\n",
      "Generation 2: Best Solution = -0.7594909991443415, Best Fitness = 0.5768265777812701\n",
      "Generation 3: Best Solution = -3.2980644324301736, Best Fitness = 10.877229000460963\n",
      "Generation 4: Best Solution = 8.993647792402186, Best Fitness = 80.88570061378071\n",
      "Generation 5: Best Solution = 9.13915476536975, Best Fitness = 83.5241498253806\n",
      "Generation 6: Best Solution = 9.846164844048, Best Fitness = 96.94696213616676\n",
      "Generation 7: Best Solution = 9.85473354743114, Best Fitness = 97.11577329086474\n",
      "Generation 8: Best Solution = 10.174172918666821, Best Fitness = 103.51379457893334\n",
      "Generation 9: Best Solution = 11.567844216175645, Best Fitness = 133.81501980970833\n",
      "Generation 10: Best Solution = 12.103087546822842, Best Fitness = 146.48472816605815\n",
      "Generation 11: Best Solution = 12.103087546822842, Best Fitness = 146.48472816605815\n",
      "Generation 12: Best Solution = 12.224035160192933, Best Fitness = 149.42703559763308\n",
      "Generation 13: Best Solution = 12.252307796842405, Best Fitness = 150.1190463485652\n",
      "Generation 14: Best Solution = 12.366048571805944, Best Fitness = 152.91915728026382\n",
      "Generation 15: Best Solution = 11.97464766163489, Best Fitness = 143.39218662029793\n",
      "Generation 16: Best Solution = 12.452573459437188, Best Fitness = 155.06658576267947\n",
      "Generation 17: Best Solution = 12.452573459437188, Best Fitness = 155.06658576267947\n",
      "Generation 18: Best Solution = 12.373187674195123, Best Fitness = 153.0957732208541\n",
      "Generation 19: Best Solution = 11.386212831731857, Best Fitness = 129.6458426494952\n",
      "Generation 20: Best Solution = 12.439677043927267, Best Fitness = 154.74556495721103\n",
      "Generation 21: Best Solution = 12.515511568232792, Best Fitness = 156.63802981456885\n",
      "Generation 22: Best Solution = 12.554211781282739, Best Fitness = 157.6082334492983\n",
      "Generation 23: Best Solution = 12.488151950879312, Best Fitness = 155.95393914825075\n",
      "Generation 24: Best Solution = 11.509668039843636, Best Fitness = 132.47245838739804\n",
      "Generation 25: Best Solution = 11.666696936303605, Best Fitness = 136.11181740355593\n",
      "Generation 26: Best Solution = 12.197816127680586, Best Fitness = 148.7867182847046\n",
      "Generation 27: Best Solution = 12.329652641502872, Best Fitness = 152.02033426011874\n",
      "Generation 28: Best Solution = 12.549080729380785, Best Fitness = 157.47942715251617\n",
      "Generation 29: Best Solution = 12.7616547567122, Best Fitness = 162.85983212951513\n",
      "Generation 30: Best Solution = 12.801431118044244, Best Fitness = 163.8766386700315\n",
      "Generation 31: Best Solution = 12.660181029923045, Best Fitness = 160.28018371042333\n",
      "Generation 32: Best Solution = 12.674648951095685, Best Fitness = 160.64672603351096\n",
      "Generation 33: Best Solution = 12.81478989841617, Best Fitness = 164.2188401405491\n",
      "Generation 34: Best Solution = 12.821354264285425, Best Fitness = 164.38712517031004\n",
      "Generation 35: Best Solution = 12.825935259174285, Best Fitness = 164.50461527253015\n",
      "Generation 36: Best Solution = 12.902544696840147, Best Fitness = 166.4756596539578\n",
      "Generation 37: Best Solution = 11.977220510069321, Best Fitness = 143.45381114682522\n",
      "Generation 38: Best Solution = 13.005060389422733, Best Fitness = 169.13159573253216\n",
      "Generation 39: Best Solution = 13.005060389422733, Best Fitness = 169.13159573253216\n",
      "Generation 40: Best Solution = 11.565431380787585, Best Fitness = 133.75920302370622\n",
      "Generation 41: Best Solution = 11.894658003165633, Best Fitness = 141.48288901227224\n",
      "Generation 42: Best Solution = 12.768982487036558, Best Fitness = 163.04691375424633\n",
      "Generation 43: Best Solution = 12.768982487036556, Best Fitness = 163.04691375424628\n",
      "Generation 44: Best Solution = 12.005358953610719, Best Fitness = 144.12864360504105\n",
      "Generation 45: Best Solution = 12.768982487036558, Best Fitness = 163.04691375424633\n",
      "Generation 46: Best Solution = 13.034579297575323, Best Fitness = 169.9002574647792\n",
      "Generation 47: Best Solution = 13.050168245171893, Best Fitness = 170.30689122729285\n",
      "Generation 48: Best Solution = 12.77760693698295, Best Fitness = 163.26723903603482\n",
      "Generation 49: Best Solution = 13.119812872963404, Best Fitness = 172.12948982157624\n",
      "Generation 50: Best Solution = 12.952026775117238, Best Fitness = 167.75499758335383\n"
     ]
    }
   ],
   "source": [
    "for generation in range(num_generations):\n",
    "    fitness = np.array([objective_function(individual) for individual in population])\n",
    "    best_individual = population[np.argmin(fitness)]\n",
    "    best_fitness = np.min(fitness)\n",
    "\n",
    "    q_values = (1 - learning_rate) * q_values + learning_rate * (fitness + discount_factor * np.min(fitness))\n",
    "\n",
    "    new_population = []\n",
    "    for _ in range(population_size):\n",
    "        parent1, parent2 = select_parents(population, fitness)\n",
    "        child = crossover(parent1, parent2)\n",
    "        child = mutate(child)\n",
    "        new_population.append(child)\n",
    "    \n",
    "    population = np.array(new_population)\n",
    "    print(f\"Generation {generation + 1}: Best Solution = {best_individual}, Best Fitness = {best_fitness}\")"
   ]
  },
  {
   "cell_type": "code",
   "execution_count": 10,
   "id": "db1b2cc4",
   "metadata": {},
   "outputs": [
    {
     "name": "stdout",
     "output_type": "stream",
     "text": [
      "\n",
      "Optimized Solution: x = 13.1992123383073, f(x) = 167.75499758335383\n"
     ]
    }
   ],
   "source": [
    "final_best_individual = population[np.argmin(fitness)]\n",
    "final_best_fitness = np.min(fitness)\n",
    "print(f\"\\nOptimized Solution: x = {final_best_individual}, f(x) = {final_best_fitness}\")"
   ]
  }
 ],
 "metadata": {
  "kernelspec": {
   "display_name": "Python 3 (ipykernel)",
   "language": "python",
   "name": "python3"
  },
  "language_info": {
   "codemirror_mode": {
    "name": "ipython",
    "version": 3
   },
   "file_extension": ".py",
   "mimetype": "text/x-python",
   "name": "python",
   "nbconvert_exporter": "python",
   "pygments_lexer": "ipython3",
   "version": "3.9.12"
  }
 },
 "nbformat": 4,
 "nbformat_minor": 5
}
